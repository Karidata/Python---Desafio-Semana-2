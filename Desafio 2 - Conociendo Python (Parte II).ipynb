{
 "cells": [
  {
   "cell_type": "code",
   "execution_count": null,
   "id": "6fcc0ade-1961-40aa-8948-96956b71421d",
   "metadata": {},
   "outputs": [],
   "source": [
    "#Ejercicio 1: Suma de números pares"
   ]
  },
  {
   "cell_type": "code",
   "execution_count": 8,
   "id": "bb826db1-4ef5-44b0-8e04-b3c3070b959a",
   "metadata": {},
   "outputs": [
    {
     "name": "stdin",
     "output_type": "stream",
     "text": [
      "Ingresa el primer número:  4\n",
      "Ingresa el segundo número:  8\n"
     ]
    },
    {
     "name": "stdout",
     "output_type": "stream",
     "text": [
      "La suma de los números pares es: 18\n"
     ]
    }
   ],
   "source": [
    "inicio = int(input(\"Ingresa el primer número: \"))\n",
    "fin = int(input(\"Ingresa el segundo número: \"))\n",
    "\n",
    "suma_pares = 0\n",
    "for numero in range(min(inicio, fin), max(inicio, fin) + 1):\n",
    "    if numero % 2 == 0:\n",
    "        suma_pares += numero\n",
    "\n",
    "print(\"La suma de los números pares es:\", suma_pares)"
   ]
  },
  {
   "cell_type": "code",
   "execution_count": null,
   "id": "212cd12c-9941-4fa1-9f97-05c8bf80271e",
   "metadata": {},
   "outputs": [],
   "source": [
    "#Ejercicio 2: Calculadora de áreas"
   ]
  },
  {
   "cell_type": "code",
   "execution_count": 7,
   "id": "58e81049-00a7-4f6c-8a86-e5278fd2a26e",
   "metadata": {},
   "outputs": [
    {
     "name": "stdin",
     "output_type": "stream",
     "text": [
      "¿Qué figura quieres calcular? (cuadrado, triángulo, círculo):  triángulo\n",
      "Ingresa la base:  40\n",
      "Ingresa la altura:  70\n"
     ]
    },
    {
     "name": "stdout",
     "output_type": "stream",
     "text": [
      "El área de la figura es: 1400.0\n"
     ]
    }
   ],
   "source": [
    "import math  # Importamos la librería para usar pi\n",
    "\n",
    "# Preguntamos qué figura calcular\n",
    "figura = input(\"¿Qué figura quieres calcular? (cuadrado, triángulo, círculo): \").lower()\n",
    "\n",
    "# Usamos condicionales para cada caso\n",
    "if figura == \"cuadrado\":\n",
    "    lado = float(input(\"Ingresa el lado del cuadrado: \"))\n",
    "    area = lado ** 2\n",
    "elif figura == \"triángulo\":\n",
    "    base = float(input(\"Ingresa la base: \"))\n",
    "    altura = float(input(\"Ingresa la altura: \"))\n",
    "    area = (base * altura) / 2\n",
    "elif figura == \"círculo\":\n",
    "    radio = float(input(\"Ingresa el radio: \"))\n",
    "    area = math.pi * radio ** 2\n",
    "else:\n",
    "    area = None\n",
    "    print(\"Figura no válida.\")\n",
    "\n",
    "# Mostramos el área si fue calculada\n",
    "if area is not None:\n",
    "    print(\"El área de la figura es:\", area)"
   ]
  },
  {
   "cell_type": "code",
   "execution_count": null,
   "id": "e87a3161-0ac5-495c-9f87-40b828201938",
   "metadata": {},
   "outputs": [],
   "source": [
    "#Ejercicio 3: Adivina el número"
   ]
  },
  {
   "cell_type": "code",
   "execution_count": 9,
   "id": "c725ecda-6df4-41f0-8354-b59c672d2a27",
   "metadata": {},
   "outputs": [
    {
     "name": "stdin",
     "output_type": "stream",
     "text": [
      "Adivina el número (entre 1 y 100):  88\n"
     ]
    },
    {
     "name": "stdout",
     "output_type": "stream",
     "text": [
      "Demasiado alto.\n"
     ]
    },
    {
     "name": "stdin",
     "output_type": "stream",
     "text": [
      "Adivina el número (entre 1 y 100):  50\n"
     ]
    },
    {
     "name": "stdout",
     "output_type": "stream",
     "text": [
      "Demasiado bajo.\n"
     ]
    },
    {
     "name": "stdin",
     "output_type": "stream",
     "text": [
      "Adivina el número (entre 1 y 100):  75\n"
     ]
    },
    {
     "name": "stdout",
     "output_type": "stream",
     "text": [
      "Demasiado alto.\n"
     ]
    },
    {
     "name": "stdin",
     "output_type": "stream",
     "text": [
      "Adivina el número (entre 1 y 100):  60\n"
     ]
    },
    {
     "name": "stdout",
     "output_type": "stream",
     "text": [
      "Demasiado alto.\n"
     ]
    },
    {
     "name": "stdin",
     "output_type": "stream",
     "text": [
      "Adivina el número (entre 1 y 100):  55\n"
     ]
    },
    {
     "name": "stdout",
     "output_type": "stream",
     "text": [
      "Demasiado alto.\n"
     ]
    },
    {
     "name": "stdin",
     "output_type": "stream",
     "text": [
      "Adivina el número (entre 1 y 100):  20\n"
     ]
    },
    {
     "name": "stdout",
     "output_type": "stream",
     "text": [
      "Demasiado bajo.\n"
     ]
    },
    {
     "name": "stdin",
     "output_type": "stream",
     "text": [
      "Adivina el número (entre 1 y 100):  0\n"
     ]
    },
    {
     "name": "stdout",
     "output_type": "stream",
     "text": [
      "Demasiado bajo.\n"
     ]
    },
    {
     "name": "stdin",
     "output_type": "stream",
     "text": [
      "Adivina el número (entre 1 y 100):  51\n"
     ]
    },
    {
     "name": "stdout",
     "output_type": "stream",
     "text": [
      "Demasiado bajo.\n"
     ]
    },
    {
     "name": "stdin",
     "output_type": "stream",
     "text": [
      "Adivina el número (entre 1 y 100):  52\n"
     ]
    },
    {
     "name": "stdout",
     "output_type": "stream",
     "text": [
      "Demasiado bajo.\n"
     ]
    },
    {
     "name": "stdin",
     "output_type": "stream",
     "text": [
      "Adivina el número (entre 1 y 100):  53\n"
     ]
    },
    {
     "name": "stdout",
     "output_type": "stream",
     "text": [
      "¡Correcto! El número era 53\n"
     ]
    }
   ],
   "source": [
    "import random  # Importamos la librería para generar números aleatorios\n",
    "\n",
    "# Generamos el número secreto\n",
    "numero_secreto = random.randint(1, 100)\n",
    "intento = None\n",
    "\n",
    "# Repetimos hasta que el usuario acierte\n",
    "while intento != numero_secreto:\n",
    "    intento = int(input(\"Adivina el número (entre 1 y 100): \"))\n",
    "    if intento < numero_secreto:\n",
    "        print(\"Demasiado bajo.\")\n",
    "    elif intento > numero_secreto:\n",
    "        print(\"Demasiado alto.\")\n",
    "    else:\n",
    "        print(\"¡Correcto! El número era\", numero_secreto)"
   ]
  },
  {
   "cell_type": "code",
   "execution_count": null,
   "id": "89ec33d5-1d49-4e54-94a2-ba176c9ec674",
   "metadata": {},
   "outputs": [],
   "source": [
    "#Ejercicio 4: Carrera de pollos"
   ]
  },
  {
   "cell_type": "code",
   "execution_count": 10,
   "id": "4b5880c5-3b16-4cd0-8d5e-5d0c5c9d8599",
   "metadata": {},
   "outputs": [
    {
     "name": "stdin",
     "output_type": "stream",
     "text": [
      "Ingrese la velocidad del pollito en metros/segundo:  100\n"
     ]
    },
    {
     "name": "stdout",
     "output_type": "stream",
     "text": [
      "🐔\n",
      "¡El pollito ha llegado a la meta!\n"
     ]
    }
   ],
   "source": [
    "import time\n",
    "\n",
    "try:\n",
    "    velocidad = int(input(\"Ingrese la velocidad del pollito en metros/segundo: \"))\n",
    "    if velocidad <= 0:\n",
    "        print(\"La velocidad debe ser mayor que cero.\")\n",
    "    else:\n",
    "        distancia = 0\n",
    "        while distancia < 100:\n",
    "            print(\" \" * (distancia // 2) + \"🐔\")  # Limitamos el avance visual\n",
    "            time.sleep(1)\n",
    "            distancia += velocidad\n",
    "        print(\"¡El pollito ha llegado a la meta!\")\n",
    "except ValueError:\n",
    "    print(\"Por favor, ingresa un número válido.\")"
   ]
  },
  {
   "cell_type": "code",
   "execution_count": null,
   "id": "b9dea0b8-b9af-45d1-9e35-49955d403bbc",
   "metadata": {},
   "outputs": [],
   "source": []
  }
 ],
 "metadata": {
  "kernelspec": {
   "display_name": "Python 3 (ipykernel)",
   "language": "python",
   "name": "python3"
  },
  "language_info": {
   "codemirror_mode": {
    "name": "ipython",
    "version": 3
   },
   "file_extension": ".py",
   "mimetype": "text/x-python",
   "name": "python",
   "nbconvert_exporter": "python",
   "pygments_lexer": "ipython3",
   "version": "3.13.5"
  }
 },
 "nbformat": 4,
 "nbformat_minor": 5
}
